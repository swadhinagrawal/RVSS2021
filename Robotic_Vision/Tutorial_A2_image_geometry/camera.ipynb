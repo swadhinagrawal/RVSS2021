{
 "cells": [
  {
   "cell_type": "markdown",
   "metadata": {},
   "source": [
    "<table>\n",
    "  <tr>\n",
    "      <td><div align=\"left\"><font size=\"20\" >Central camera projection model</font></div></td>\n",
    "     <td><img src=\"images/RVSS-logo.png\" width=\"400\"></td>\n",
    "  </tr>\n",
    "</table>"
   ]
  },
  {
   "cell_type": "code",
   "execution_count": 1,
   "metadata": {},
   "outputs": [
    {
     "name": "stdout",
     "output_type": "stream",
     "text": [
      "Requirement already satisfied: machinevision-toolbox-python in /home/ec2-user/anaconda3/envs/mxnet_p36/lib/python3.6/site-packages (0.5.4)\n",
      "Requirement already satisfied: opencv-python in /home/ec2-user/anaconda3/envs/mxnet_p36/lib/python3.6/site-packages (from machinevision-toolbox-python) (4.2.0.32)\n",
      "Requirement already satisfied: ansitable in /home/ec2-user/anaconda3/envs/mxnet_p36/lib/python3.6/site-packages (from machinevision-toolbox-python) (0.9.5)\n",
      "Requirement already satisfied: spatialmath-python in /home/ec2-user/anaconda3/envs/mxnet_p36/lib/python3.6/site-packages (from machinevision-toolbox-python) (0.8.8)\n",
      "Requirement already satisfied: numpy in /home/ec2-user/anaconda3/envs/mxnet_p36/lib/python3.6/site-packages (from machinevision-toolbox-python) (1.19.4)\n",
      "Requirement already satisfied: scipy in /home/ec2-user/anaconda3/envs/mxnet_p36/lib/python3.6/site-packages (from machinevision-toolbox-python) (1.4.1)\n",
      "Requirement already satisfied: matplotlib in /home/ec2-user/anaconda3/envs/mxnet_p36/lib/python3.6/site-packages (from machinevision-toolbox-python) (3.1.3)\n",
      "Requirement already satisfied: colored in /home/ec2-user/anaconda3/envs/mxnet_p36/lib/python3.6/site-packages (from ansitable->machinevision-toolbox-python) (1.4.2)\n",
      "Requirement already satisfied: pyparsing!=2.0.4,!=2.1.2,!=2.1.6,>=2.0.1 in /home/ec2-user/anaconda3/envs/mxnet_p36/lib/python3.6/site-packages (from matplotlib->machinevision-toolbox-python) (2.4.7)\n",
      "Requirement already satisfied: python-dateutil>=2.1 in /home/ec2-user/anaconda3/envs/mxnet_p36/lib/python3.6/site-packages (from matplotlib->machinevision-toolbox-python) (2.8.1)\n",
      "Requirement already satisfied: cycler>=0.10 in /home/ec2-user/anaconda3/envs/mxnet_p36/lib/python3.6/site-packages (from matplotlib->machinevision-toolbox-python) (0.10.0)\n",
      "Requirement already satisfied: numpy in /home/ec2-user/anaconda3/envs/mxnet_p36/lib/python3.6/site-packages (from machinevision-toolbox-python) (1.19.4)\n",
      "Requirement already satisfied: kiwisolver>=1.0.1 in /home/ec2-user/anaconda3/envs/mxnet_p36/lib/python3.6/site-packages (from matplotlib->machinevision-toolbox-python) (1.1.0)\n",
      "Requirement already satisfied: six in /home/ec2-user/anaconda3/envs/mxnet_p36/lib/python3.6/site-packages (from cycler>=0.10->matplotlib->machinevision-toolbox-python) (1.15.0)\n",
      "Requirement already satisfied: setuptools in /home/ec2-user/anaconda3/envs/mxnet_p36/lib/python3.6/site-packages (from kiwisolver>=1.0.1->matplotlib->machinevision-toolbox-python) (45.2.0.post20200210)\n",
      "Requirement already satisfied: numpy in /home/ec2-user/anaconda3/envs/mxnet_p36/lib/python3.6/site-packages (from machinevision-toolbox-python) (1.19.4)\n",
      "Requirement already satisfied: six in /home/ec2-user/anaconda3/envs/mxnet_p36/lib/python3.6/site-packages (from cycler>=0.10->matplotlib->machinevision-toolbox-python) (1.15.0)\n",
      "Requirement already satisfied: numpy in /home/ec2-user/anaconda3/envs/mxnet_p36/lib/python3.6/site-packages (from machinevision-toolbox-python) (1.19.4)\n",
      "Requirement already satisfied: colored in /home/ec2-user/anaconda3/envs/mxnet_p36/lib/python3.6/site-packages (from ansitable->machinevision-toolbox-python) (1.4.2)\n",
      "Requirement already satisfied: ansitable in /home/ec2-user/anaconda3/envs/mxnet_p36/lib/python3.6/site-packages (from machinevision-toolbox-python) (0.9.5)\n",
      "Requirement already satisfied: numpy in /home/ec2-user/anaconda3/envs/mxnet_p36/lib/python3.6/site-packages (from machinevision-toolbox-python) (1.19.4)\n",
      "Requirement already satisfied: scipy in /home/ec2-user/anaconda3/envs/mxnet_p36/lib/python3.6/site-packages (from machinevision-toolbox-python) (1.4.1)\n",
      "Requirement already satisfied: matplotlib in /home/ec2-user/anaconda3/envs/mxnet_p36/lib/python3.6/site-packages (from machinevision-toolbox-python) (3.1.3)\n",
      "\u001b[33mWARNING: You are using pip version 20.3; however, version 21.0.1 is available.\n",
      "You should consider upgrading via the '/home/ec2-user/anaconda3/envs/mxnet_p36/bin/python -m pip install --upgrade pip' command.\u001b[0m\n"
     ]
    }
   ],
   "source": [
    "%matplotlib notebook\n",
    "\n",
    "import sys\n",
    "!{sys.executable} -m pip install machinevision-toolbox-python\n",
    "\n",
    "import numpy as np\n",
    "import math\n",
    "from spatialmath import SE3\n",
    "from spatialmath.base import e2h, h2e\n",
    "import machinevisiontoolbox as mvtb"
   ]
  },
  {
   "cell_type": "markdown",
   "metadata": {},
   "source": [
    "# From first principles\n",
    "\n",
    "Let's define some parameters of our camera"
   ]
  },
  {
   "cell_type": "code",
   "execution_count": 2,
   "metadata": {},
   "outputs": [],
   "source": [
    "f = 8*1e-3     # focal length in metres\n",
    "rho = 10*1e-6  # pixel side length in metres\n",
    "u0 = 500       # principal point, horizontal coordinate\n",
    "v0 = 500       # principal point, vertical coordinate"
   ]
  },
  {
   "cell_type": "markdown",
   "metadata": {},
   "source": [
    "Next we define some matrices.  \n",
    "\n",
    "The first is a 3x3 _intrinsic_ matrix that contains information about the camera itself:\n",
    "  - focal length of the lens\n",
    "  - pixel size\n",
    "  - the position of the principal point in units of pixels,this is where the _principal ray_ pierces the image plane."
   ]
  },
  {
   "cell_type": "code",
   "execution_count": 3,
   "metadata": {},
   "outputs": [],
   "source": [
    "K = np.array([  [f/rho, 0, u0], \n",
    "                [0, f/rho, v0], \n",
    "                [0, 0, 1]])"
   ]
  },
  {
   "cell_type": "markdown",
   "metadata": {},
   "source": [
    "The next is a 3x4 matrix that performs the projection, reduces the 3D world point to a 2D image plane point"
   ]
  },
  {
   "cell_type": "code",
   "execution_count": 4,
   "metadata": {},
   "outputs": [],
   "source": [
    "P0 = np.array([ [1, 0, 0, 0],\n",
    "                [0, 1, 0, 0],\n",
    "                [0, 0, 1, 0]])"
   ]
  },
  {
   "cell_type": "markdown",
   "metadata": {},
   "source": [
    "Then finally a 4x4 _extrinsic_ matrix_ which says how the camera is positioned and oriented in space. An identity matrix has our camera at the world frame origin and looking along the world z-axis."
   ]
  },
  {
   "cell_type": "code",
   "execution_count": 5,
   "metadata": {},
   "outputs": [],
   "source": [
    "X = np.identity(4)"
   ]
  },
  {
   "cell_type": "markdown",
   "metadata": {},
   "source": [
    "We multiply these three matrices together to form the camera matrix"
   ]
  },
  {
   "cell_type": "code",
   "execution_count": 6,
   "metadata": {},
   "outputs": [],
   "source": [
    "C = K @ P0 @ X"
   ]
  },
  {
   "cell_type": "markdown",
   "metadata": {},
   "source": [
    "The resulting camera matrix is a 3x4 matrix"
   ]
  },
  {
   "cell_type": "code",
   "execution_count": 7,
   "metadata": {},
   "outputs": [
    {
     "data": {
      "text/plain": [
       "(3, 4)"
      ]
     },
     "execution_count": 7,
     "metadata": {},
     "output_type": "execute_result"
    }
   ],
   "source": [
    "C.shape"
   ]
  },
  {
   "cell_type": "markdown",
   "metadata": {},
   "source": [
    "Next we define a point in terms of its 3D coordinates (in units of metres), as a column vector"
   ]
  },
  {
   "cell_type": "code",
   "execution_count": 8,
   "metadata": {},
   "outputs": [],
   "source": [
    "P = np.array([1, -2, 5])"
   ]
  },
  {
   "cell_type": "markdown",
   "metadata": {},
   "source": [
    "To perform the projection we need to convert our 3D coordinate to homogeneous form, which is done by the helper function `e2h`"
   ]
  },
  {
   "cell_type": "code",
   "execution_count": 9,
   "metadata": {},
   "outputs": [
    {
     "data": {
      "text/plain": [
       "array([ 1., -2.,  5.,  1.])"
      ]
     },
     "execution_count": 9,
     "metadata": {},
     "output_type": "execute_result"
    }
   ],
   "source": [
    "e2h(P)"
   ]
  },
  {
   "cell_type": "markdown",
   "metadata": {},
   "source": [
    "Now we can premultiply this by the camera matrix to get the image plane coordinates in homoogeneous form"
   ]
  },
  {
   "cell_type": "code",
   "execution_count": 10,
   "metadata": {},
   "outputs": [
    {
     "data": {
      "text/plain": [
       "array([3300.,  900.,    5.])"
      ]
     },
     "execution_count": 10,
     "metadata": {},
     "output_type": "execute_result"
    }
   ],
   "source": [
    "C @ e2h(P)"
   ]
  },
  {
   "cell_type": "markdown",
   "metadata": {},
   "source": [
    "and we use the helper function `h2e` to convert that back to Euclidean coordinates - the 2D image plane coordinates in units of pixels"
   ]
  },
  {
   "cell_type": "code",
   "execution_count": 11,
   "metadata": {},
   "outputs": [
    {
     "data": {
      "text/plain": [
       "array([660., 180.])"
      ]
     },
     "execution_count": 11,
     "metadata": {},
     "output_type": "execute_result"
    }
   ],
   "source": [
    "h2e( C @ e2h(P) )"
   ]
  },
  {
   "cell_type": "markdown",
   "metadata": {},
   "source": [
    "If we move the point 0.5m in the x-axis direction we see that the u-coordinate in the image plane increases, as we would expect"
   ]
  },
  {
   "cell_type": "code",
   "execution_count": 12,
   "metadata": {},
   "outputs": [
    {
     "data": {
      "text/plain": [
       "array([1060., 1140.])"
      ]
     },
     "execution_count": 12,
     "metadata": {},
     "output_type": "execute_result"
    }
   ],
   "source": [
    "P1 = np.array([3.5, 4, 5])\n",
    "h2e( C @ e2h(P1) )"
   ]
  },
  {
   "cell_type": "markdown",
   "metadata": {},
   "source": [
    "Now we will move the camera 0.5m in the x-axis direction. We do this by setting the top right element of the _extrinsic_ matrix so as to represent a translation of 0.5m.\n",
    "\n",
    "Then we recompute the _camera_ matrix and project our original point onto the image plane of the moved camera.  We see that the u-coordinate has decreased as we would expect - when we move our head to the right the world appears to move to the left."
   ]
  },
  {
   "cell_type": "code",
   "execution_count": 13,
   "metadata": {},
   "outputs": [
    {
     "data": {
      "text/plain": [
       "array([580., 180.])"
      ]
     },
     "execution_count": 13,
     "metadata": {},
     "output_type": "execute_result"
    }
   ],
   "source": [
    "X[0,0] = 0.5\n",
    "C = K @ P0 @ X\n",
    "h2e( C @ e2h(P) )"
   ]
  },
  {
   "cell_type": "markdown",
   "metadata": {},
   "source": [
    "# Using the Toolbox CentralCamera class\n",
    "\n"
   ]
  },
  {
   "cell_type": "code",
   "execution_count": 14,
   "metadata": {},
   "outputs": [
    {
     "name": "stdout",
     "output_type": "stream",
     "text": [
      "           Name: MVTB camera [CentralCamera]\n",
      "     pixel size: 9.999999999999999e-06 x 9.999999999999999e-06\n",
      "     image size: [1000.] x [1000.]\n",
      "           pose: t = 0, 0, 0; rpy/zyx = 0°, 0°, 0°\n",
      "   principal pt: (500.0, 500.0)\n",
      "   focal length: (0.008, 0.008)\n",
      "\n"
     ]
    }
   ],
   "source": [
    "camera = mvtb.CentralCamera(f=f, rho=rho, pp=(u0, v0), imagesize=1000)\n",
    "print(camera)"
   ]
  },
  {
   "cell_type": "markdown",
   "metadata": {},
   "source": [
    "We can very conveniently project points to the image plane"
   ]
  },
  {
   "cell_type": "code",
   "execution_count": 15,
   "metadata": {},
   "outputs": [
    {
     "data": {
      "text/plain": [
       "array([[660., 660.],\n",
       "       [180., 180.]])"
      ]
     },
     "execution_count": 15,
     "metadata": {},
     "output_type": "execute_result"
    }
   ],
   "source": [
    "# appears to be bug in MVTB toolbox cannot pass in a (3,) or (3,1) array for camera.project\n",
    "# so we will simply create a copy of the point to make it a (3,2)\n",
    "P_tmp = np.repeat(P.reshape((3,1)), 2, axis=1) \n",
    "camera.project(P_tmp)"
   ]
  },
  {
   "cell_type": "markdown",
   "metadata": {},
   "source": [
    "and we can plot it on a virtual image plane conveniently by"
   ]
  },
  {
   "cell_type": "code",
   "execution_count": 16,
   "metadata": {},
   "outputs": [
    {
     "name": "stdout",
     "output_type": "stream",
     "text": [
      "creating new figure and axes for camera\n"
     ]
    },
    {
     "data": {
      "application/javascript": [
       "/* Put everything inside the global mpl namespace */\n",
       "window.mpl = {};\n",
       "\n",
       "\n",
       "mpl.get_websocket_type = function() {\n",
       "    if (typeof(WebSocket) !== 'undefined') {\n",
       "        return WebSocket;\n",
       "    } else if (typeof(MozWebSocket) !== 'undefined') {\n",
       "        return MozWebSocket;\n",
       "    } else {\n",
       "        alert('Your browser does not have WebSocket support. ' +\n",
       "              'Please try Chrome, Safari or Firefox ≥ 6. ' +\n",
       "              'Firefox 4 and 5 are also supported but you ' +\n",
       "              'have to enable WebSockets in about:config.');\n",
       "    };\n",
       "}\n",
       "\n",
       "mpl.figure = function(figure_id, websocket, ondownload, parent_element) {\n",
       "    this.id = figure_id;\n",
       "\n",
       "    this.ws = websocket;\n",
       "\n",
       "    this.supports_binary = (this.ws.binaryType != undefined);\n",
       "\n",
       "    if (!this.supports_binary) {\n",
       "        var warnings = document.getElementById(\"mpl-warnings\");\n",
       "        if (warnings) {\n",
       "            warnings.style.display = 'block';\n",
       "            warnings.textContent = (\n",
       "                \"This browser does not support binary websocket messages. \" +\n",
       "                    \"Performance may be slow.\");\n",
       "        }\n",
       "    }\n",
       "\n",
       "    this.imageObj = new Image();\n",
       "\n",
       "    this.context = undefined;\n",
       "    this.message = undefined;\n",
       "    this.canvas = undefined;\n",
       "    this.rubberband_canvas = undefined;\n",
       "    this.rubberband_context = undefined;\n",
       "    this.format_dropdown = undefined;\n",
       "\n",
       "    this.image_mode = 'full';\n",
       "\n",
       "    this.root = $('<div/>');\n",
       "    this._root_extra_style(this.root)\n",
       "    this.root.attr('style', 'display: inline-block');\n",
       "\n",
       "    $(parent_element).append(this.root);\n",
       "\n",
       "    this._init_header(this);\n",
       "    this._init_canvas(this);\n",
       "    this._init_toolbar(this);\n",
       "\n",
       "    var fig = this;\n",
       "\n",
       "    this.waiting = false;\n",
       "\n",
       "    this.ws.onopen =  function () {\n",
       "            fig.send_message(\"supports_binary\", {value: fig.supports_binary});\n",
       "            fig.send_message(\"send_image_mode\", {});\n",
       "            if (mpl.ratio != 1) {\n",
       "                fig.send_message(\"set_dpi_ratio\", {'dpi_ratio': mpl.ratio});\n",
       "            }\n",
       "            fig.send_message(\"refresh\", {});\n",
       "        }\n",
       "\n",
       "    this.imageObj.onload = function() {\n",
       "            if (fig.image_mode == 'full') {\n",
       "                // Full images could contain transparency (where diff images\n",
       "                // almost always do), so we need to clear the canvas so that\n",
       "                // there is no ghosting.\n",
       "                fig.context.clearRect(0, 0, fig.canvas.width, fig.canvas.height);\n",
       "            }\n",
       "            fig.context.drawImage(fig.imageObj, 0, 0);\n",
       "        };\n",
       "\n",
       "    this.imageObj.onunload = function() {\n",
       "        fig.ws.close();\n",
       "    }\n",
       "\n",
       "    this.ws.onmessage = this._make_on_message_function(this);\n",
       "\n",
       "    this.ondownload = ondownload;\n",
       "}\n",
       "\n",
       "mpl.figure.prototype._init_header = function() {\n",
       "    var titlebar = $(\n",
       "        '<div class=\"ui-dialog-titlebar ui-widget-header ui-corner-all ' +\n",
       "        'ui-helper-clearfix\"/>');\n",
       "    var titletext = $(\n",
       "        '<div class=\"ui-dialog-title\" style=\"width: 100%; ' +\n",
       "        'text-align: center; padding: 3px;\"/>');\n",
       "    titlebar.append(titletext)\n",
       "    this.root.append(titlebar);\n",
       "    this.header = titletext[0];\n",
       "}\n",
       "\n",
       "\n",
       "\n",
       "mpl.figure.prototype._canvas_extra_style = function(canvas_div) {\n",
       "\n",
       "}\n",
       "\n",
       "\n",
       "mpl.figure.prototype._root_extra_style = function(canvas_div) {\n",
       "\n",
       "}\n",
       "\n",
       "mpl.figure.prototype._init_canvas = function() {\n",
       "    var fig = this;\n",
       "\n",
       "    var canvas_div = $('<div/>');\n",
       "\n",
       "    canvas_div.attr('style', 'position: relative; clear: both; outline: 0');\n",
       "\n",
       "    function canvas_keyboard_event(event) {\n",
       "        return fig.key_event(event, event['data']);\n",
       "    }\n",
       "\n",
       "    canvas_div.keydown('key_press', canvas_keyboard_event);\n",
       "    canvas_div.keyup('key_release', canvas_keyboard_event);\n",
       "    this.canvas_div = canvas_div\n",
       "    this._canvas_extra_style(canvas_div)\n",
       "    this.root.append(canvas_div);\n",
       "\n",
       "    var canvas = $('<canvas/>');\n",
       "    canvas.addClass('mpl-canvas');\n",
       "    canvas.attr('style', \"left: 0; top: 0; z-index: 0; outline: 0\")\n",
       "\n",
       "    this.canvas = canvas[0];\n",
       "    this.context = canvas[0].getContext(\"2d\");\n",
       "\n",
       "    var backingStore = this.context.backingStorePixelRatio ||\n",
       "\tthis.context.webkitBackingStorePixelRatio ||\n",
       "\tthis.context.mozBackingStorePixelRatio ||\n",
       "\tthis.context.msBackingStorePixelRatio ||\n",
       "\tthis.context.oBackingStorePixelRatio ||\n",
       "\tthis.context.backingStorePixelRatio || 1;\n",
       "\n",
       "    mpl.ratio = (window.devicePixelRatio || 1) / backingStore;\n",
       "\n",
       "    var rubberband = $('<canvas/>');\n",
       "    rubberband.attr('style', \"position: absolute; left: 0; top: 0; z-index: 1;\")\n",
       "\n",
       "    var pass_mouse_events = true;\n",
       "\n",
       "    canvas_div.resizable({\n",
       "        start: function(event, ui) {\n",
       "            pass_mouse_events = false;\n",
       "        },\n",
       "        resize: function(event, ui) {\n",
       "            fig.request_resize(ui.size.width, ui.size.height);\n",
       "        },\n",
       "        stop: function(event, ui) {\n",
       "            pass_mouse_events = true;\n",
       "            fig.request_resize(ui.size.width, ui.size.height);\n",
       "        },\n",
       "    });\n",
       "\n",
       "    function mouse_event_fn(event) {\n",
       "        if (pass_mouse_events)\n",
       "            return fig.mouse_event(event, event['data']);\n",
       "    }\n",
       "\n",
       "    rubberband.mousedown('button_press', mouse_event_fn);\n",
       "    rubberband.mouseup('button_release', mouse_event_fn);\n",
       "    // Throttle sequential mouse events to 1 every 20ms.\n",
       "    rubberband.mousemove('motion_notify', mouse_event_fn);\n",
       "\n",
       "    rubberband.mouseenter('figure_enter', mouse_event_fn);\n",
       "    rubberband.mouseleave('figure_leave', mouse_event_fn);\n",
       "\n",
       "    canvas_div.on(\"wheel\", function (event) {\n",
       "        event = event.originalEvent;\n",
       "        event['data'] = 'scroll'\n",
       "        if (event.deltaY < 0) {\n",
       "            event.step = 1;\n",
       "        } else {\n",
       "            event.step = -1;\n",
       "        }\n",
       "        mouse_event_fn(event);\n",
       "    });\n",
       "\n",
       "    canvas_div.append(canvas);\n",
       "    canvas_div.append(rubberband);\n",
       "\n",
       "    this.rubberband = rubberband;\n",
       "    this.rubberband_canvas = rubberband[0];\n",
       "    this.rubberband_context = rubberband[0].getContext(\"2d\");\n",
       "    this.rubberband_context.strokeStyle = \"#000000\";\n",
       "\n",
       "    this._resize_canvas = function(width, height) {\n",
       "        // Keep the size of the canvas, canvas container, and rubber band\n",
       "        // canvas in synch.\n",
       "        canvas_div.css('width', width)\n",
       "        canvas_div.css('height', height)\n",
       "\n",
       "        canvas.attr('width', width * mpl.ratio);\n",
       "        canvas.attr('height', height * mpl.ratio);\n",
       "        canvas.attr('style', 'width: ' + width + 'px; height: ' + height + 'px;');\n",
       "\n",
       "        rubberband.attr('width', width);\n",
       "        rubberband.attr('height', height);\n",
       "    }\n",
       "\n",
       "    // Set the figure to an initial 600x600px, this will subsequently be updated\n",
       "    // upon first draw.\n",
       "    this._resize_canvas(600, 600);\n",
       "\n",
       "    // Disable right mouse context menu.\n",
       "    $(this.rubberband_canvas).bind(\"contextmenu\",function(e){\n",
       "        return false;\n",
       "    });\n",
       "\n",
       "    function set_focus () {\n",
       "        canvas.focus();\n",
       "        canvas_div.focus();\n",
       "    }\n",
       "\n",
       "    window.setTimeout(set_focus, 100);\n",
       "}\n",
       "\n",
       "mpl.figure.prototype._init_toolbar = function() {\n",
       "    var fig = this;\n",
       "\n",
       "    var nav_element = $('<div/>');\n",
       "    nav_element.attr('style', 'width: 100%');\n",
       "    this.root.append(nav_element);\n",
       "\n",
       "    // Define a callback function for later on.\n",
       "    function toolbar_event(event) {\n",
       "        return fig.toolbar_button_onclick(event['data']);\n",
       "    }\n",
       "    function toolbar_mouse_event(event) {\n",
       "        return fig.toolbar_button_onmouseover(event['data']);\n",
       "    }\n",
       "\n",
       "    for(var toolbar_ind in mpl.toolbar_items) {\n",
       "        var name = mpl.toolbar_items[toolbar_ind][0];\n",
       "        var tooltip = mpl.toolbar_items[toolbar_ind][1];\n",
       "        var image = mpl.toolbar_items[toolbar_ind][2];\n",
       "        var method_name = mpl.toolbar_items[toolbar_ind][3];\n",
       "\n",
       "        if (!name) {\n",
       "            // put a spacer in here.\n",
       "            continue;\n",
       "        }\n",
       "        var button = $('<button/>');\n",
       "        button.addClass('ui-button ui-widget ui-state-default ui-corner-all ' +\n",
       "                        'ui-button-icon-only');\n",
       "        button.attr('role', 'button');\n",
       "        button.attr('aria-disabled', 'false');\n",
       "        button.click(method_name, toolbar_event);\n",
       "        button.mouseover(tooltip, toolbar_mouse_event);\n",
       "\n",
       "        var icon_img = $('<span/>');\n",
       "        icon_img.addClass('ui-button-icon-primary ui-icon');\n",
       "        icon_img.addClass(image);\n",
       "        icon_img.addClass('ui-corner-all');\n",
       "\n",
       "        var tooltip_span = $('<span/>');\n",
       "        tooltip_span.addClass('ui-button-text');\n",
       "        tooltip_span.html(tooltip);\n",
       "\n",
       "        button.append(icon_img);\n",
       "        button.append(tooltip_span);\n",
       "\n",
       "        nav_element.append(button);\n",
       "    }\n",
       "\n",
       "    var fmt_picker_span = $('<span/>');\n",
       "\n",
       "    var fmt_picker = $('<select/>');\n",
       "    fmt_picker.addClass('mpl-toolbar-option ui-widget ui-widget-content');\n",
       "    fmt_picker_span.append(fmt_picker);\n",
       "    nav_element.append(fmt_picker_span);\n",
       "    this.format_dropdown = fmt_picker[0];\n",
       "\n",
       "    for (var ind in mpl.extensions) {\n",
       "        var fmt = mpl.extensions[ind];\n",
       "        var option = $(\n",
       "            '<option/>', {selected: fmt === mpl.default_extension}).html(fmt);\n",
       "        fmt_picker.append(option);\n",
       "    }\n",
       "\n",
       "    // Add hover states to the ui-buttons\n",
       "    $( \".ui-button\" ).hover(\n",
       "        function() { $(this).addClass(\"ui-state-hover\");},\n",
       "        function() { $(this).removeClass(\"ui-state-hover\");}\n",
       "    );\n",
       "\n",
       "    var status_bar = $('<span class=\"mpl-message\"/>');\n",
       "    nav_element.append(status_bar);\n",
       "    this.message = status_bar[0];\n",
       "}\n",
       "\n",
       "mpl.figure.prototype.request_resize = function(x_pixels, y_pixels) {\n",
       "    // Request matplotlib to resize the figure. Matplotlib will then trigger a resize in the client,\n",
       "    // which will in turn request a refresh of the image.\n",
       "    this.send_message('resize', {'width': x_pixels, 'height': y_pixels});\n",
       "}\n",
       "\n",
       "mpl.figure.prototype.send_message = function(type, properties) {\n",
       "    properties['type'] = type;\n",
       "    properties['figure_id'] = this.id;\n",
       "    this.ws.send(JSON.stringify(properties));\n",
       "}\n",
       "\n",
       "mpl.figure.prototype.send_draw_message = function() {\n",
       "    if (!this.waiting) {\n",
       "        this.waiting = true;\n",
       "        this.ws.send(JSON.stringify({type: \"draw\", figure_id: this.id}));\n",
       "    }\n",
       "}\n",
       "\n",
       "\n",
       "mpl.figure.prototype.handle_save = function(fig, msg) {\n",
       "    var format_dropdown = fig.format_dropdown;\n",
       "    var format = format_dropdown.options[format_dropdown.selectedIndex].value;\n",
       "    fig.ondownload(fig, format);\n",
       "}\n",
       "\n",
       "\n",
       "mpl.figure.prototype.handle_resize = function(fig, msg) {\n",
       "    var size = msg['size'];\n",
       "    if (size[0] != fig.canvas.width || size[1] != fig.canvas.height) {\n",
       "        fig._resize_canvas(size[0], size[1]);\n",
       "        fig.send_message(\"refresh\", {});\n",
       "    };\n",
       "}\n",
       "\n",
       "mpl.figure.prototype.handle_rubberband = function(fig, msg) {\n",
       "    var x0 = msg['x0'] / mpl.ratio;\n",
       "    var y0 = (fig.canvas.height - msg['y0']) / mpl.ratio;\n",
       "    var x1 = msg['x1'] / mpl.ratio;\n",
       "    var y1 = (fig.canvas.height - msg['y1']) / mpl.ratio;\n",
       "    x0 = Math.floor(x0) + 0.5;\n",
       "    y0 = Math.floor(y0) + 0.5;\n",
       "    x1 = Math.floor(x1) + 0.5;\n",
       "    y1 = Math.floor(y1) + 0.5;\n",
       "    var min_x = Math.min(x0, x1);\n",
       "    var min_y = Math.min(y0, y1);\n",
       "    var width = Math.abs(x1 - x0);\n",
       "    var height = Math.abs(y1 - y0);\n",
       "\n",
       "    fig.rubberband_context.clearRect(\n",
       "        0, 0, fig.canvas.width / mpl.ratio, fig.canvas.height / mpl.ratio);\n",
       "\n",
       "    fig.rubberband_context.strokeRect(min_x, min_y, width, height);\n",
       "}\n",
       "\n",
       "mpl.figure.prototype.handle_figure_label = function(fig, msg) {\n",
       "    // Updates the figure title.\n",
       "    fig.header.textContent = msg['label'];\n",
       "}\n",
       "\n",
       "mpl.figure.prototype.handle_cursor = function(fig, msg) {\n",
       "    var cursor = msg['cursor'];\n",
       "    switch(cursor)\n",
       "    {\n",
       "    case 0:\n",
       "        cursor = 'pointer';\n",
       "        break;\n",
       "    case 1:\n",
       "        cursor = 'default';\n",
       "        break;\n",
       "    case 2:\n",
       "        cursor = 'crosshair';\n",
       "        break;\n",
       "    case 3:\n",
       "        cursor = 'move';\n",
       "        break;\n",
       "    }\n",
       "    fig.rubberband_canvas.style.cursor = cursor;\n",
       "}\n",
       "\n",
       "mpl.figure.prototype.handle_message = function(fig, msg) {\n",
       "    fig.message.textContent = msg['message'];\n",
       "}\n",
       "\n",
       "mpl.figure.prototype.handle_draw = function(fig, msg) {\n",
       "    // Request the server to send over a new figure.\n",
       "    fig.send_draw_message();\n",
       "}\n",
       "\n",
       "mpl.figure.prototype.handle_image_mode = function(fig, msg) {\n",
       "    fig.image_mode = msg['mode'];\n",
       "}\n",
       "\n",
       "mpl.figure.prototype.updated_canvas_event = function() {\n",
       "    // Called whenever the canvas gets updated.\n",
       "    this.send_message(\"ack\", {});\n",
       "}\n",
       "\n",
       "// A function to construct a web socket function for onmessage handling.\n",
       "// Called in the figure constructor.\n",
       "mpl.figure.prototype._make_on_message_function = function(fig) {\n",
       "    return function socket_on_message(evt) {\n",
       "        if (evt.data instanceof Blob) {\n",
       "            /* FIXME: We get \"Resource interpreted as Image but\n",
       "             * transferred with MIME type text/plain:\" errors on\n",
       "             * Chrome.  But how to set the MIME type?  It doesn't seem\n",
       "             * to be part of the websocket stream */\n",
       "            evt.data.type = \"image/png\";\n",
       "\n",
       "            /* Free the memory for the previous frames */\n",
       "            if (fig.imageObj.src) {\n",
       "                (window.URL || window.webkitURL).revokeObjectURL(\n",
       "                    fig.imageObj.src);\n",
       "            }\n",
       "\n",
       "            fig.imageObj.src = (window.URL || window.webkitURL).createObjectURL(\n",
       "                evt.data);\n",
       "            fig.updated_canvas_event();\n",
       "            fig.waiting = false;\n",
       "            return;\n",
       "        }\n",
       "        else if (typeof evt.data === 'string' && evt.data.slice(0, 21) == \"data:image/png;base64\") {\n",
       "            fig.imageObj.src = evt.data;\n",
       "            fig.updated_canvas_event();\n",
       "            fig.waiting = false;\n",
       "            return;\n",
       "        }\n",
       "\n",
       "        var msg = JSON.parse(evt.data);\n",
       "        var msg_type = msg['type'];\n",
       "\n",
       "        // Call the  \"handle_{type}\" callback, which takes\n",
       "        // the figure and JSON message as its only arguments.\n",
       "        try {\n",
       "            var callback = fig[\"handle_\" + msg_type];\n",
       "        } catch (e) {\n",
       "            console.log(\"No handler for the '\" + msg_type + \"' message type: \", msg);\n",
       "            return;\n",
       "        }\n",
       "\n",
       "        if (callback) {\n",
       "            try {\n",
       "                // console.log(\"Handling '\" + msg_type + \"' message: \", msg);\n",
       "                callback(fig, msg);\n",
       "            } catch (e) {\n",
       "                console.log(\"Exception inside the 'handler_\" + msg_type + \"' callback:\", e, e.stack, msg);\n",
       "            }\n",
       "        }\n",
       "    };\n",
       "}\n",
       "\n",
       "// from http://stackoverflow.com/questions/1114465/getting-mouse-location-in-canvas\n",
       "mpl.findpos = function(e) {\n",
       "    //this section is from http://www.quirksmode.org/js/events_properties.html\n",
       "    var targ;\n",
       "    if (!e)\n",
       "        e = window.event;\n",
       "    if (e.target)\n",
       "        targ = e.target;\n",
       "    else if (e.srcElement)\n",
       "        targ = e.srcElement;\n",
       "    if (targ.nodeType == 3) // defeat Safari bug\n",
       "        targ = targ.parentNode;\n",
       "\n",
       "    // jQuery normalizes the pageX and pageY\n",
       "    // pageX,Y are the mouse positions relative to the document\n",
       "    // offset() returns the position of the element relative to the document\n",
       "    var x = e.pageX - $(targ).offset().left;\n",
       "    var y = e.pageY - $(targ).offset().top;\n",
       "\n",
       "    return {\"x\": x, \"y\": y};\n",
       "};\n",
       "\n",
       "/*\n",
       " * return a copy of an object with only non-object keys\n",
       " * we need this to avoid circular references\n",
       " * http://stackoverflow.com/a/24161582/3208463\n",
       " */\n",
       "function simpleKeys (original) {\n",
       "  return Object.keys(original).reduce(function (obj, key) {\n",
       "    if (typeof original[key] !== 'object')\n",
       "        obj[key] = original[key]\n",
       "    return obj;\n",
       "  }, {});\n",
       "}\n",
       "\n",
       "mpl.figure.prototype.mouse_event = function(event, name) {\n",
       "    var canvas_pos = mpl.findpos(event)\n",
       "\n",
       "    if (name === 'button_press')\n",
       "    {\n",
       "        this.canvas.focus();\n",
       "        this.canvas_div.focus();\n",
       "    }\n",
       "\n",
       "    var x = canvas_pos.x * mpl.ratio;\n",
       "    var y = canvas_pos.y * mpl.ratio;\n",
       "\n",
       "    this.send_message(name, {x: x, y: y, button: event.button,\n",
       "                             step: event.step,\n",
       "                             guiEvent: simpleKeys(event)});\n",
       "\n",
       "    /* This prevents the web browser from automatically changing to\n",
       "     * the text insertion cursor when the button is pressed.  We want\n",
       "     * to control all of the cursor setting manually through the\n",
       "     * 'cursor' event from matplotlib */\n",
       "    event.preventDefault();\n",
       "    return false;\n",
       "}\n",
       "\n",
       "mpl.figure.prototype._key_event_extra = function(event, name) {\n",
       "    // Handle any extra behaviour associated with a key event\n",
       "}\n",
       "\n",
       "mpl.figure.prototype.key_event = function(event, name) {\n",
       "\n",
       "    // Prevent repeat events\n",
       "    if (name == 'key_press')\n",
       "    {\n",
       "        if (event.which === this._key)\n",
       "            return;\n",
       "        else\n",
       "            this._key = event.which;\n",
       "    }\n",
       "    if (name == 'key_release')\n",
       "        this._key = null;\n",
       "\n",
       "    var value = '';\n",
       "    if (event.ctrlKey && event.which != 17)\n",
       "        value += \"ctrl+\";\n",
       "    if (event.altKey && event.which != 18)\n",
       "        value += \"alt+\";\n",
       "    if (event.shiftKey && event.which != 16)\n",
       "        value += \"shift+\";\n",
       "\n",
       "    value += 'k';\n",
       "    value += event.which.toString();\n",
       "\n",
       "    this._key_event_extra(event, name);\n",
       "\n",
       "    this.send_message(name, {key: value,\n",
       "                             guiEvent: simpleKeys(event)});\n",
       "    return false;\n",
       "}\n",
       "\n",
       "mpl.figure.prototype.toolbar_button_onclick = function(name) {\n",
       "    if (name == 'download') {\n",
       "        this.handle_save(this, null);\n",
       "    } else {\n",
       "        this.send_message(\"toolbar_button\", {name: name});\n",
       "    }\n",
       "};\n",
       "\n",
       "mpl.figure.prototype.toolbar_button_onmouseover = function(tooltip) {\n",
       "    this.message.textContent = tooltip;\n",
       "};\n",
       "mpl.toolbar_items = [[\"Home\", \"Reset original view\", \"fa fa-home icon-home\", \"home\"], [\"Back\", \"Back to previous view\", \"fa fa-arrow-left icon-arrow-left\", \"back\"], [\"Forward\", \"Forward to next view\", \"fa fa-arrow-right icon-arrow-right\", \"forward\"], [\"\", \"\", \"\", \"\"], [\"Pan\", \"Pan axes with left mouse, zoom with right\", \"fa fa-arrows icon-move\", \"pan\"], [\"Zoom\", \"Zoom to rectangle\", \"fa fa-square-o icon-check-empty\", \"zoom\"], [\"\", \"\", \"\", \"\"], [\"Download\", \"Download plot\", \"fa fa-floppy-o icon-save\", \"download\"]];\n",
       "\n",
       "mpl.extensions = [\"eps\", \"jpeg\", \"pdf\", \"png\", \"ps\", \"raw\", \"svg\", \"tif\"];\n",
       "\n",
       "mpl.default_extension = \"png\";var comm_websocket_adapter = function(comm) {\n",
       "    // Create a \"websocket\"-like object which calls the given IPython comm\n",
       "    // object with the appropriate methods. Currently this is a non binary\n",
       "    // socket, so there is still some room for performance tuning.\n",
       "    var ws = {};\n",
       "\n",
       "    ws.close = function() {\n",
       "        comm.close()\n",
       "    };\n",
       "    ws.send = function(m) {\n",
       "        //console.log('sending', m);\n",
       "        comm.send(m);\n",
       "    };\n",
       "    // Register the callback with on_msg.\n",
       "    comm.on_msg(function(msg) {\n",
       "        //console.log('receiving', msg['content']['data'], msg);\n",
       "        // Pass the mpl event to the overridden (by mpl) onmessage function.\n",
       "        ws.onmessage(msg['content']['data'])\n",
       "    });\n",
       "    return ws;\n",
       "}\n",
       "\n",
       "mpl.mpl_figure_comm = function(comm, msg) {\n",
       "    // This is the function which gets called when the mpl process\n",
       "    // starts-up an IPython Comm through the \"matplotlib\" channel.\n",
       "\n",
       "    var id = msg.content.data.id;\n",
       "    // Get hold of the div created by the display call when the Comm\n",
       "    // socket was opened in Python.\n",
       "    var element = $(\"#\" + id);\n",
       "    var ws_proxy = comm_websocket_adapter(comm)\n",
       "\n",
       "    function ondownload(figure, format) {\n",
       "        window.open(figure.imageObj.src);\n",
       "    }\n",
       "\n",
       "    var fig = new mpl.figure(id, ws_proxy,\n",
       "                           ondownload,\n",
       "                           element.get(0));\n",
       "\n",
       "    // Call onopen now - mpl needs it, as it is assuming we've passed it a real\n",
       "    // web socket which is closed, not our websocket->open comm proxy.\n",
       "    ws_proxy.onopen();\n",
       "\n",
       "    fig.parent_element = element.get(0);\n",
       "    fig.cell_info = mpl.find_output_cell(\"<div id='\" + id + \"'></div>\");\n",
       "    if (!fig.cell_info) {\n",
       "        console.error(\"Failed to find cell for figure\", id, fig);\n",
       "        return;\n",
       "    }\n",
       "\n",
       "    var output_index = fig.cell_info[2]\n",
       "    var cell = fig.cell_info[0];\n",
       "\n",
       "};\n",
       "\n",
       "mpl.figure.prototype.handle_close = function(fig, msg) {\n",
       "    var width = fig.canvas.width/mpl.ratio\n",
       "    fig.root.unbind('remove')\n",
       "\n",
       "    // Update the output cell to use the data from the current canvas.\n",
       "    fig.push_to_output();\n",
       "    var dataURL = fig.canvas.toDataURL();\n",
       "    // Re-enable the keyboard manager in IPython - without this line, in FF,\n",
       "    // the notebook keyboard shortcuts fail.\n",
       "    IPython.keyboard_manager.enable()\n",
       "    $(fig.parent_element).html('<img src=\"' + dataURL + '\" width=\"' + width + '\">');\n",
       "    fig.close_ws(fig, msg);\n",
       "}\n",
       "\n",
       "mpl.figure.prototype.close_ws = function(fig, msg){\n",
       "    fig.send_message('closing', msg);\n",
       "    // fig.ws.close()\n",
       "}\n",
       "\n",
       "mpl.figure.prototype.push_to_output = function(remove_interactive) {\n",
       "    // Turn the data on the canvas into data in the output cell.\n",
       "    var width = this.canvas.width/mpl.ratio\n",
       "    var dataURL = this.canvas.toDataURL();\n",
       "    this.cell_info[1]['text/html'] = '<img src=\"' + dataURL + '\" width=\"' + width + '\">';\n",
       "}\n",
       "\n",
       "mpl.figure.prototype.updated_canvas_event = function() {\n",
       "    // Tell IPython that the notebook contents must change.\n",
       "    IPython.notebook.set_dirty(true);\n",
       "    this.send_message(\"ack\", {});\n",
       "    var fig = this;\n",
       "    // Wait a second, then push the new image to the DOM so\n",
       "    // that it is saved nicely (might be nice to debounce this).\n",
       "    setTimeout(function () { fig.push_to_output() }, 1000);\n",
       "}\n",
       "\n",
       "mpl.figure.prototype._init_toolbar = function() {\n",
       "    var fig = this;\n",
       "\n",
       "    var nav_element = $('<div/>');\n",
       "    nav_element.attr('style', 'width: 100%');\n",
       "    this.root.append(nav_element);\n",
       "\n",
       "    // Define a callback function for later on.\n",
       "    function toolbar_event(event) {\n",
       "        return fig.toolbar_button_onclick(event['data']);\n",
       "    }\n",
       "    function toolbar_mouse_event(event) {\n",
       "        return fig.toolbar_button_onmouseover(event['data']);\n",
       "    }\n",
       "\n",
       "    for(var toolbar_ind in mpl.toolbar_items){\n",
       "        var name = mpl.toolbar_items[toolbar_ind][0];\n",
       "        var tooltip = mpl.toolbar_items[toolbar_ind][1];\n",
       "        var image = mpl.toolbar_items[toolbar_ind][2];\n",
       "        var method_name = mpl.toolbar_items[toolbar_ind][3];\n",
       "\n",
       "        if (!name) { continue; };\n",
       "\n",
       "        var button = $('<button class=\"btn btn-default\" href=\"#\" title=\"' + name + '\"><i class=\"fa ' + image + ' fa-lg\"></i></button>');\n",
       "        button.click(method_name, toolbar_event);\n",
       "        button.mouseover(tooltip, toolbar_mouse_event);\n",
       "        nav_element.append(button);\n",
       "    }\n",
       "\n",
       "    // Add the status bar.\n",
       "    var status_bar = $('<span class=\"mpl-message\" style=\"text-align:right; float: right;\"/>');\n",
       "    nav_element.append(status_bar);\n",
       "    this.message = status_bar[0];\n",
       "\n",
       "    // Add the close button to the window.\n",
       "    var buttongrp = $('<div class=\"btn-group inline pull-right\"></div>');\n",
       "    var button = $('<button class=\"btn btn-mini btn-primary\" href=\"#\" title=\"Stop Interaction\"><i class=\"fa fa-power-off icon-remove icon-large\"></i></button>');\n",
       "    button.click(function (evt) { fig.handle_close(fig, {}); } );\n",
       "    button.mouseover('Stop Interaction', toolbar_mouse_event);\n",
       "    buttongrp.append(button);\n",
       "    var titlebar = this.root.find($('.ui-dialog-titlebar'));\n",
       "    titlebar.prepend(buttongrp);\n",
       "}\n",
       "\n",
       "mpl.figure.prototype._root_extra_style = function(el){\n",
       "    var fig = this\n",
       "    el.on(\"remove\", function(){\n",
       "\tfig.close_ws(fig, {});\n",
       "    });\n",
       "}\n",
       "\n",
       "mpl.figure.prototype._canvas_extra_style = function(el){\n",
       "    // this is important to make the div 'focusable\n",
       "    el.attr('tabindex', 0)\n",
       "    // reach out to IPython and tell the keyboard manager to turn it's self\n",
       "    // off when our div gets focus\n",
       "\n",
       "    // location in version 3\n",
       "    if (IPython.notebook.keyboard_manager) {\n",
       "        IPython.notebook.keyboard_manager.register_events(el);\n",
       "    }\n",
       "    else {\n",
       "        // location in version 2\n",
       "        IPython.keyboard_manager.register_events(el);\n",
       "    }\n",
       "\n",
       "}\n",
       "\n",
       "mpl.figure.prototype._key_event_extra = function(event, name) {\n",
       "    var manager = IPython.notebook.keyboard_manager;\n",
       "    if (!manager)\n",
       "        manager = IPython.keyboard_manager;\n",
       "\n",
       "    // Check for shift+enter\n",
       "    if (event.shiftKey && event.which == 13) {\n",
       "        this.canvas_div.blur();\n",
       "        // select the cell after this one\n",
       "        var index = IPython.notebook.find_cell_index(this.cell_info[0]);\n",
       "        IPython.notebook.select(index + 1);\n",
       "    }\n",
       "}\n",
       "\n",
       "mpl.figure.prototype.handle_save = function(fig, msg) {\n",
       "    fig.ondownload(fig, null);\n",
       "}\n",
       "\n",
       "\n",
       "mpl.find_output_cell = function(html_output) {\n",
       "    // Return the cell and output element which can be found *uniquely* in the notebook.\n",
       "    // Note - this is a bit hacky, but it is done because the \"notebook_saving.Notebook\"\n",
       "    // IPython event is triggered only after the cells have been serialised, which for\n",
       "    // our purposes (turning an active figure into a static one), is too late.\n",
       "    var cells = IPython.notebook.get_cells();\n",
       "    var ncells = cells.length;\n",
       "    for (var i=0; i<ncells; i++) {\n",
       "        var cell = cells[i];\n",
       "        if (cell.cell_type === 'code'){\n",
       "            for (var j=0; j<cell.output_area.outputs.length; j++) {\n",
       "                var data = cell.output_area.outputs[j];\n",
       "                if (data.data) {\n",
       "                    // IPython >= 3 moved mimebundle to data attribute of output\n",
       "                    data = data.data;\n",
       "                }\n",
       "                if (data['text/html'] == html_output) {\n",
       "                    return [cell, data, j];\n",
       "                }\n",
       "            }\n",
       "        }\n",
       "    }\n",
       "}\n",
       "\n",
       "// Register the function which deals with the matplotlib target/channel.\n",
       "// The kernel may be null if the page has been refreshed.\n",
       "if (IPython.notebook.kernel != null) {\n",
       "    IPython.notebook.kernel.comm_manager.register_target('matplotlib', mpl.mpl_figure_comm);\n",
       "}\n"
      ],
      "text/plain": [
       "<IPython.core.display.Javascript object>"
      ]
     },
     "metadata": {},
     "output_type": "display_data"
    },
    {
     "data": {
      "text/html": [
       "<img src=\"data:image/png;base64,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\" width=\"640\">"
      ],
      "text/plain": [
       "<IPython.core.display.HTML object>"
      ]
     },
     "metadata": {},
     "output_type": "display_data"
    }
   ],
   "source": [
    "camera.plot(P_tmp)"
   ]
  },
  {
   "cell_type": "markdown",
   "metadata": {},
   "source": [
    "We can project the same point, but this time with the camera moved 0.2m in the x-direction"
   ]
  },
  {
   "cell_type": "code",
   "execution_count": 17,
   "metadata": {},
   "outputs": [
    {
     "data": {
      "text/plain": [
       "array([[564., 564.],\n",
       "       [180., 180.]])"
      ]
     },
     "execution_count": 17,
     "metadata": {},
     "output_type": "execute_result"
    }
   ],
   "source": [
    "camera.project(P_tmp, pose=SE3(0.6, 0, 0))"
   ]
  },
  {
   "cell_type": "markdown",
   "metadata": {},
   "source": [
    "and we see that the u-coordinate has decreased.  If we look out along the camera's principal axis then moving the camera to the right causes the image plane point to move to the left.\n",
    "\n",
    "We can extract the intrinsic matrix"
   ]
  },
  {
   "cell_type": "code",
   "execution_count": 18,
   "metadata": {},
   "outputs": [
    {
     "data": {
      "text/plain": [
       "array([[800.,   0., 500.],\n",
       "       [  0., 800., 500.],\n",
       "       [  0.,   0.,   1.]])"
      ]
     },
     "execution_count": 18,
     "metadata": {},
     "output_type": "execute_result"
    }
   ],
   "source": [
    "camera.K"
   ]
  },
  {
   "cell_type": "markdown",
   "metadata": {},
   "source": [
    "and the camera matrix"
   ]
  },
  {
   "cell_type": "code",
   "execution_count": 19,
   "metadata": {},
   "outputs": [
    {
     "data": {
      "text/plain": [
       "array([[800.,   0., 500.,   0.],\n",
       "       [  0., 800., 500.,   0.],\n",
       "       [  0.,   0.,   1.,   0.]])"
      ]
     },
     "execution_count": 19,
     "metadata": {},
     "output_type": "execute_result"
    }
   ],
   "source": [
    "camera.C"
   ]
  },
  {
   "cell_type": "code",
   "execution_count": null,
   "metadata": {},
   "outputs": [],
   "source": []
  }
 ],
 "metadata": {
  "kernelspec": {
   "display_name": "conda_mxnet_p36",
   "language": "python",
   "name": "conda_mxnet_p36"
  },
  "language_info": {
   "codemirror_mode": {
    "name": "ipython",
    "version": 3
   },
   "file_extension": ".py",
   "mimetype": "text/x-python",
   "name": "python",
   "nbconvert_exporter": "python",
   "pygments_lexer": "ipython3",
   "version": "3.6.10"
  },
  "varInspector": {
   "cols": {
    "lenName": 16,
    "lenType": 16,
    "lenVar": 40
   },
   "kernels_config": {
    "python": {
     "delete_cmd_postfix": "",
     "delete_cmd_prefix": "del ",
     "library": "var_list.py",
     "varRefreshCmd": "print(var_dic_list())"
    },
    "r": {
     "delete_cmd_postfix": ") ",
     "delete_cmd_prefix": "rm(",
     "library": "var_list.r",
     "varRefreshCmd": "cat(var_dic_list()) "
    }
   },
   "types_to_exclude": [
    "module",
    "function",
    "builtin_function_or_method",
    "instance",
    "_Feature"
   ],
   "window_display": false
  }
 },
 "nbformat": 4,
 "nbformat_minor": 2
}
